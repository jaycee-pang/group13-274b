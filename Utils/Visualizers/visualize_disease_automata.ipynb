{
 "cells": [
  {
   "cell_type": "markdown",
   "metadata": {},
   "source": [
    "# Visualize Modeled Disease Automata \n",
    "\n",
    "Using `SOMETHING`, visualize `SOMETHING ELSE`\n",
    "- possibilities: this notebook contains lines of bash script that someone can run?\n",
    "- alternatively running something like ./run_model will spit out a .csv or .txt file in Utils/Data\n",
    "\n",
    "Notes/things to think about\n",
    "- adding enviornment.yaml file in root directory so that user has dedicated conda environment with necessary packages for visulization?"
   ]
  },
  {
   "cell_type": "code",
   "execution_count": null,
   "metadata": {},
   "outputs": [],
   "source": [
    "# import packages\n",
    "\n",
    "import os\n",
    "import imageio\n",
    "\n",
    "import numpy as np\n",
    "import pandas as pd \n",
    "import matplotlib.pyplot as plt \n",
    "\n",
    "from matplotlib.animation import FuncAnimation\n"
   ]
  },
  {
   "cell_type": "code",
   "execution_count": null,
   "metadata": {},
   "outputs": [],
   "source": [
    "# Create the animation object\n",
    "animation_fig = animation.FuncAnimation(fig, update, frames=len(image_array), interval=200, blit=True,repeat_delay=10,)\n",
    "\n",
    "# Show the animation\n",
    "plt.show()\n",
    "\n",
    "animation_fig.save(\"steps/animated_GMM.gif\")"
   ]
  }
 ],
 "metadata": {
  "kernelspec": {
   "display_name": "msse-python",
   "language": "python",
   "name": "python3"
  },
  "language_info": {
   "name": "python",
   "version": "3.11.4"
  }
 },
 "nbformat": 4,
 "nbformat_minor": 2
}
